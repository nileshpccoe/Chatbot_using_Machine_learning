{
 "cells": [
  {
   "cell_type": "code",
   "execution_count": 2,
   "id": "8677c023-18d3-4923-ba28-cb8fe4f915ad",
   "metadata": {},
   "outputs": [],
   "source": [
    "import numpy as np \n",
    "import string\n",
    "\n",
    "import pandas as pd \n",
    "from sklearn.feature_extraction.text import CountVectorizer\n",
    "\n",
    "from sklearn.feature_extraction.text import TfidfTransformer,TfidfVectorizer\n",
    "from sklearn.pipeline import Pipeline\n",
    "from textblob import TextBlob\n",
    "\n",
    "\n"
   ]
  },
  {
   "cell_type": "code",
   "execution_count": 3,
   "id": "1dd25451",
   "metadata": {},
   "outputs": [
    {
     "data": {
      "text/html": [
       "<div>\n",
       "<style scoped>\n",
       "    .dataframe tbody tr th:only-of-type {\n",
       "        vertical-align: middle;\n",
       "    }\n",
       "\n",
       "    .dataframe tbody tr th {\n",
       "        vertical-align: top;\n",
       "    }\n",
       "\n",
       "    .dataframe thead th {\n",
       "        text-align: right;\n",
       "    }\n",
       "</style>\n",
       "<table border=\"1\" class=\"dataframe\">\n",
       "  <thead>\n",
       "    <tr style=\"text-align: right;\">\n",
       "      <th></th>\n",
       "      <th>Questions</th>\n",
       "      <th>Answers</th>\n",
       "    </tr>\n",
       "  </thead>\n",
       "  <tbody>\n",
       "    <tr>\n",
       "      <th>0</th>\n",
       "      <td>i'm fine. how about yourself?</td>\n",
       "      <td>i'm pretty good. thanks for asking.</td>\n",
       "    </tr>\n",
       "    <tr>\n",
       "      <th>1</th>\n",
       "      <td>i'm pretty good. thanks for asking.</td>\n",
       "      <td>no problem. so how have you been?</td>\n",
       "    </tr>\n",
       "    <tr>\n",
       "      <th>2</th>\n",
       "      <td>no problem. so how have you been?</td>\n",
       "      <td>i've been great. what about you?</td>\n",
       "    </tr>\n",
       "    <tr>\n",
       "      <th>3</th>\n",
       "      <td>i've been great. what about you?</td>\n",
       "      <td>i've been good. i'm in school right now.</td>\n",
       "    </tr>\n",
       "    <tr>\n",
       "      <th>4</th>\n",
       "      <td>i've been good. i'm in school right now.</td>\n",
       "      <td>what school do you go to?</td>\n",
       "    </tr>\n",
       "    <tr>\n",
       "      <th>...</th>\n",
       "      <td>...</td>\n",
       "      <td>...</td>\n",
       "    </tr>\n",
       "    <tr>\n",
       "      <th>1</th>\n",
       "      <td>Hi</td>\n",
       "      <td>hello</td>\n",
       "    </tr>\n",
       "    <tr>\n",
       "      <th>2</th>\n",
       "      <td>Hello</td>\n",
       "      <td>hi</td>\n",
       "    </tr>\n",
       "    <tr>\n",
       "      <th>3</th>\n",
       "      <td>how are you</td>\n",
       "      <td>i'm fine. how about yourself?</td>\n",
       "    </tr>\n",
       "    <tr>\n",
       "      <th>4</th>\n",
       "      <td>how are you doing</td>\n",
       "      <td>i'm fine. how about yourself?</td>\n",
       "    </tr>\n",
       "    <tr>\n",
       "      <th>5</th>\n",
       "      <td>what is good name</td>\n",
       "      <td>it me aarush</td>\n",
       "    </tr>\n",
       "  </tbody>\n",
       "</table>\n",
       "<p>3730 rows × 2 columns</p>\n",
       "</div>"
      ],
      "text/plain": [
       "                                   Questions  \\\n",
       "0              i'm fine. how about yourself?   \n",
       "1        i'm pretty good. thanks for asking.   \n",
       "2          no problem. so how have you been?   \n",
       "3           i've been great. what about you?   \n",
       "4   i've been good. i'm in school right now.   \n",
       "..                                       ...   \n",
       "1                                         Hi   \n",
       "2                                      Hello   \n",
       "3                                how are you   \n",
       "4                          how are you doing   \n",
       "5                          what is good name   \n",
       "\n",
       "                                     Answers  \n",
       "0        i'm pretty good. thanks for asking.  \n",
       "1          no problem. so how have you been?  \n",
       "2           i've been great. what about you?  \n",
       "3   i've been good. i'm in school right now.  \n",
       "4                  what school do you go to?  \n",
       "..                                       ...  \n",
       "1                                      hello  \n",
       "2                                         hi  \n",
       "3              i'm fine. how about yourself?  \n",
       "4              i'm fine. how about yourself?  \n",
       "5                               it me aarush  \n",
       "\n",
       "[3730 rows x 2 columns]"
      ]
     },
     "execution_count": 3,
     "metadata": {},
     "output_type": "execute_result"
    }
   ],
   "source": [
    "df = pd.read_csv('dialogs.txt',sep='\\t')\n",
    "df\n",
    "\n",
    "\n",
    "df = pd.read_csv('dialogs.txt',sep='\\t')\n",
    "df = df.rename(columns={\"hi, how are you doing?\":\"Questions\",\"i'm fine. how about yourself?\":\"Answers\"})\n",
    "\n",
    "df3 = pd.DataFrame([['hi, how are you doing?','im fine. how about yourself?'],\n",
    "                   ['Hi','hello'],\n",
    "                   ['Hello','hi'],\n",
    "                   ['how are you',\"i'm fine. how about yourself?\"],\n",
    "                   ['how are you doing',\"i'm fine. how about yourself?\"],\n",
    "                   ['what is good name','it me aarush']],\n",
    "                   columns=['Questions','Answers'])\n",
    "df=pd.concat([df,df3],sort=False)\n",
    "df\n",
    "\n"
   ]
  },
  {
   "cell_type": "code",
   "execution_count": 4,
   "id": "e01f2366",
   "metadata": {},
   "outputs": [],
   "source": [
    "import string\n",
    "string.punctuation\n",
    "\n",
    "\n",
    "list_new=[]\n",
    "def clean_text(text):\n",
    "    a=[char for char in text if char not in string.punctuation ]\n",
    "    text=''.join(a)\n",
    "    text=[word.lower() for word in text.split() if word.lower()]\n",
    "\n",
    "    return text\n"
   ]
  },
  {
   "cell_type": "code",
   "execution_count": 5,
   "id": "1b8f6605",
   "metadata": {},
   "outputs": [
    {
     "data": {
      "text/plain": [
       "(3730,)"
      ]
     },
     "execution_count": 5,
     "metadata": {},
     "output_type": "execute_result"
    }
   ],
   "source": [
    "x=df['Questions']\n",
    "\n",
    "from sklearn.feature_extraction.text import TfidfVectorizer\n",
    "\n",
    "\n",
    "tfidf=TfidfVectorizer(analyzer=clean_text)\n",
    "\n",
    "\n",
    "x_trans=tfidf.fit_transform(x)\n",
    "\n",
    "x_vect=pd.DataFrame(x_trans.toarray())\n",
    "\n",
    "x_vect.shape\n",
    "\n",
    "y=df['Answers']\n",
    "\n",
    "y.shape\n",
    "\n",
    "\n",
    "\n"
   ]
  },
  {
   "cell_type": "code",
   "execution_count": 36,
   "id": "0d7164e1",
   "metadata": {},
   "outputs": [
    {
     "data": {
      "text/plain": [
       "(1, 2395)"
      ]
     },
     "execution_count": 36,
     "metadata": {},
     "output_type": "execute_result"
    }
   ],
   "source": [
    "x_new=tfidf.transform(['What is your name'])\n",
    "\n",
    "x_new.shape"
   ]
  },
  {
   "cell_type": "code",
   "execution_count": 11,
   "id": "3b5df831",
   "metadata": {},
   "outputs": [
    {
     "data": {
      "text/plain": [
       "(3730,)"
      ]
     },
     "execution_count": 11,
     "metadata": {},
     "output_type": "execute_result"
    }
   ],
   "source": [
    "from sklearn.preprocessing import LabelEncoder\n",
    "encoder=LabelEncoder()\n",
    "y_encoded=encoder.fit_transform(y)\n",
    "y_encoded.shape"
   ]
  },
  {
   "cell_type": "code",
   "execution_count": 28,
   "id": "678b631d",
   "metadata": {},
   "outputs": [
    {
     "data": {
      "text/plain": [
       "RandomForestClassifier(n_estimators=10, random_state=0)"
      ]
     },
     "execution_count": 28,
     "metadata": {},
     "output_type": "execute_result"
    }
   ],
   "source": [
    "from sklearn.ensemble import RandomForestClassifier\n",
    "clf=RandomForestClassifier(n_estimators=10,random_state=0)\n",
    "clf.fit(x_vect,y)\n"
   ]
  },
  {
   "cell_type": "code",
   "execution_count": 29,
   "id": "369940df",
   "metadata": {},
   "outputs": [],
   "source": [
    "y_pred=clf.predict(x_vect)"
   ]
  },
  {
   "cell_type": "code",
   "execution_count": 30,
   "id": "e17d05a4",
   "metadata": {},
   "outputs": [
    {
     "data": {
      "text/plain": [
       "0.9335120643431636"
      ]
     },
     "execution_count": 30,
     "metadata": {},
     "output_type": "execute_result"
    }
   ],
   "source": [
    "from sklearn.metrics import accuracy_score\n",
    "accuracy_score(y_pred,y)"
   ]
  },
  {
   "cell_type": "code",
   "execution_count": 37,
   "id": "7eb345d6",
   "metadata": {},
   "outputs": [
    {
     "data": {
      "text/plain": [
       "array(['it me aarush'], dtype=object)"
      ]
     },
     "execution_count": 37,
     "metadata": {},
     "output_type": "execute_result"
    }
   ],
   "source": [
    "clf.predict(x_new)"
   ]
  },
  {
   "cell_type": "markdown",
   "id": "3b9d5b0b",
   "metadata": {},
   "source": [
    "### Using Deep Learning"
   ]
  },
  {
   "cell_type": "code",
   "execution_count": null,
   "id": "42ff309f",
   "metadata": {},
   "outputs": [],
   "source": []
  }
 ],
 "metadata": {
  "kernelspec": {
   "display_name": "Python 3 (ipykernel)",
   "language": "python",
   "name": "python3"
  },
  "language_info": {
   "codemirror_mode": {
    "name": "ipython",
    "version": 3
   },
   "file_extension": ".py",
   "mimetype": "text/x-python",
   "name": "python",
   "nbconvert_exporter": "python",
   "pygments_lexer": "ipython3",
   "version": "3.9.7"
  }
 },
 "nbformat": 4,
 "nbformat_minor": 5
}
