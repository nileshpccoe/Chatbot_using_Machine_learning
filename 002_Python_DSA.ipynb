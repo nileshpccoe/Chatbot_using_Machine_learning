{
  "cells": [
    {
      "cell_type": "markdown",
      "metadata": {
        "id": "view-in-github",
        "colab_type": "text"
      },
      "source": [
        "<a href=\"https://colab.research.google.com/github/nileshpccoe/Chatbot_using_Machine_learning/blob/main/002_Python_DSA.ipynb\" target=\"_parent\"><img src=\"https://colab.research.google.com/assets/colab-badge.svg\" alt=\"Open In Colab\"/></a>"
      ]
    },
    {
      "cell_type": "raw",
      "id": "3e21ce1f",
      "metadata": {
        "id": "3e21ce1f"
      },
      "source": [
        "Data Structure is storing the data so that it can be retrived easily"
      ]
    },
    {
      "cell_type": "markdown",
      "id": "64c7b837",
      "metadata": {
        "id": "64c7b837"
      },
      "source": [
        "![image.png](attachment:image.png)"
      ]
    },
    {
      "cell_type": "markdown",
      "id": "1f43fc01",
      "metadata": {
        "id": "1f43fc01"
      },
      "source": [
        "####  1.List"
      ]
    },
    {
      "cell_type": "raw",
      "id": "70461c6a",
      "metadata": {
        "id": "70461c6a"
      },
      "source": [
        "List is used to store  many data types"
      ]
    },
    {
      "cell_type": "code",
      "execution_count": null,
      "id": "5070e539",
      "metadata": {
        "id": "5070e539",
        "outputId": "f87f5861-5b43-441f-dc03-b17986495368"
      },
      "outputs": [
        {
          "name": "stdout",
          "output_type": "stream",
          "text": [
            "False\n"
          ]
        }
      ],
      "source": [
        "list1=[1,2,3,4]\n",
        "list2=[2,1,3,4]\n",
        "print(list1==list2) #list will be same when they have the elements in same order"
      ]
    },
    {
      "cell_type": "raw",
      "id": "27b7d64a",
      "metadata": {
        "id": "27b7d64a"
      },
      "source": [
        "List are dyanmic 1.If we want to add the element we can add 2. If we want to remove the element "
      ]
    },
    {
      "cell_type": "markdown",
      "id": "0ede71a2",
      "metadata": {
        "id": "0ede71a2"
      },
      "source": [
        "#### 2.Tuple"
      ]
    },
    {
      "cell_type": "code",
      "execution_count": null,
      "id": "9c55f15b",
      "metadata": {
        "scrolled": true,
        "id": "9c55f15b",
        "outputId": "c26cff6f-c1d7-44fa-e5ad-a14fe0ccd207"
      },
      "outputs": [
        {
          "name": "stdout",
          "output_type": "stream",
          "text": [
            "Type of tuple1 <class 'int'>\n",
            "Type of tuple2 <class 'tuple'>\n"
          ]
        }
      ],
      "source": [
        "#while defining the tuple inside the for single element write it with the comma\n",
        "\n",
        "tuple1=(2)\n",
        "print(\"Type of tuple1\",type(tuple1))\n",
        "tuple2=(2,)\n",
        "print(\"Type of tuple2\",type(tuple2))"
      ]
    },
    {
      "cell_type": "raw",
      "id": "8a47c1f9",
      "metadata": {
        "id": "8a47c1f9"
      },
      "source": [
        "1.Tuple are Mutablr\n",
        "2.Indexing can be applied \n",
        "3.Tuple are fatser"
      ]
    },
    {
      "cell_type": "markdown",
      "id": "3d30fb22",
      "metadata": {
        "id": "3d30fb22"
      },
      "source": [
        "#### 3.Dictionary"
      ]
    },
    {
      "cell_type": "code",
      "execution_count": null,
      "id": "26a8accb",
      "metadata": {
        "id": "26a8accb",
        "outputId": "c862a0d4-e1ce-42fb-b631-c580397c9e9d"
      },
      "outputs": [
        {
          "data": {
            "text/plain": [
              "dict_keys(['amul', 'jinja'])"
            ]
          },
          "execution_count": 7,
          "metadata": {},
          "output_type": "execute_result"
        }
      ],
      "source": [
        "dict1={\"amul\":\"Amulya\",\"jinja\":\"template\"}\n",
        "dict1.values()\n",
        "dict1.keys()"
      ]
    },
    {
      "cell_type": "raw",
      "id": "e102ee44",
      "metadata": {
        "id": "e102ee44"
      },
      "source": [
        "1.Dict are unorderes so we can write the values randomly\n",
        "2.To delete the values or remove values we use keys\n",
        "3.dict can be used as value for another dict\n"
      ]
    },
    {
      "cell_type": "markdown",
      "id": "bed9efb1",
      "metadata": {
        "id": "bed9efb1"
      },
      "source": [
        "#### 4.Set"
      ]
    },
    {
      "cell_type": "code",
      "execution_count": null,
      "id": "25bd1722",
      "metadata": {
        "id": "25bd1722",
        "outputId": "a47148d8-4507-43d0-b63a-c89b05ec7423"
      },
      "outputs": [
        {
          "name": "stdout",
          "output_type": "stream",
          "text": [
            "Type Of S2 <class 'set'>\n",
            "Type Of S2 <class 'set'>\n"
          ]
        }
      ],
      "source": [
        "#TO create the empty set we can use () constructor\n",
        "s=set()\n",
        "s=set(\"Hello\")\n",
        "s2={1,2,3,4,5}\n",
        "print(\"Type Of S2\",type(s2))\n",
        "print(\"Type Of S2\",type(s))\n",
        "\n"
      ]
    },
    {
      "cell_type": "code",
      "execution_count": null,
      "id": "e96ba26e",
      "metadata": {
        "id": "e96ba26e",
        "outputId": "e3b5fe58-cd97-452c-b9cd-fb1f849313b0"
      },
      "outputs": [
        {
          "data": {
            "text/plain": [
              "{2, 'H', 'e', 'l', 'o'}"
            ]
          },
          "execution_count": 14,
          "metadata": {},
          "output_type": "execute_result"
        }
      ],
      "source": [
        "s.add(2)\n",
        "s"
      ]
    },
    {
      "cell_type": "code",
      "execution_count": null,
      "id": "bdbfb39b",
      "metadata": {
        "id": "bdbfb39b",
        "outputId": "7a274100-f4b5-46f2-c139-e4996321fce5"
      },
      "outputs": [
        {
          "data": {
            "text/plain": [
              "{0, 1, 2, 3, 4, 5}"
            ]
          },
          "execution_count": 17,
          "metadata": {},
          "output_type": "execute_result"
        }
      ],
      "source": [
        "s2.add(0)\n",
        "s2 #it is ordered collection of non repeated numbers"
      ]
    },
    {
      "cell_type": "markdown",
      "id": "6e13572f",
      "metadata": {
        "id": "6e13572f"
      },
      "source": [
        "### 1.Linked List"
      ]
    },
    {
      "cell_type": "raw",
      "id": "97280565",
      "metadata": {
        "id": "97280565"
      },
      "source": [
        "1.Dynamic Data structure\n",
        "2.insertion and deletion is easy\n",
        "3.Web browser ,Music player "
      ]
    },
    {
      "cell_type": "markdown",
      "id": "3cff19b1",
      "metadata": {
        "id": "3cff19b1"
      },
      "source": [
        "![image.png](attachment:image.png)"
      ]
    },
    {
      "cell_type": "raw",
      "id": "cad017b1",
      "metadata": {
        "id": "cad017b1"
      },
      "source": [
        "1.Singly Linked List\n",
        "2.Doubly liked list\n",
        "3.Circular Liked List\n"
      ]
    },
    {
      "cell_type": "markdown",
      "id": "2d5b3c08",
      "metadata": {
        "id": "2d5b3c08"
      },
      "source": [
        "#### a.Singly Linked List"
      ]
    },
    {
      "cell_type": "markdown",
      "id": "31ccdd8f",
      "metadata": {
        "id": "31ccdd8f"
      },
      "source": [
        "Adding element"
      ]
    },
    {
      "cell_type": "markdown",
      "id": "3d7d5d6e",
      "metadata": {
        "id": "3d7d5d6e"
      },
      "source": [
        "1.At the begining of linked list\n",
        "![image.png](attachment:image.png)"
      ]
    },
    {
      "cell_type": "code",
      "execution_count": null,
      "id": "0e2b8e33",
      "metadata": {
        "id": "0e2b8e33",
        "outputId": "ca0cccf1-b46a-4ab8-8d7f-451b8bc68db8"
      },
      "outputs": [
        {
          "name": "stdout",
          "output_type": "stream",
          "text": [
            "<__main__.Node object at 0x0000026BDA2586A0>\n"
          ]
        }
      ],
      "source": [
        "class Node:\n",
        "    def __init__(self,data):\n",
        "        self.data=data\n",
        "        self.ref=None #we will take null value intially\n",
        "    \n",
        "node1=Node(10)\n",
        "print(node1)\n",
        "'''\n",
        "\n",
        "<__main__.Node object at 0x0000026BDA2586A0> this is the refrence for the new node\n",
        "'''\n",
        "  "
      ]
    },
    {
      "cell_type": "markdown",
      "id": "9731881b",
      "metadata": {
        "id": "9731881b"
      },
      "source": [
        "![image.png](attachment:image.png)"
      ]
    },
    {
      "cell_type": "code",
      "execution_count": null,
      "id": "f8dcceeb",
      "metadata": {
        "id": "f8dcceeb",
        "outputId": "fa5fb0f2-6448-49d3-e8d5-2e98d740163b"
      },
      "outputs": [
        {
          "name": "stdout",
          "output_type": "stream",
          "text": [
            "40-<__main__.Node object at 0x0000026BDA0509D0>--> 30-<__main__.Node object at 0x0000026BDA223A90>--> 20-<__main__.Node object at 0x0000026BDA182100>--> 10-None--> "
          ]
        }
      ],
      "source": [
        "# creating the node\n",
        "class Node:\n",
        "    def __init__(self,data):\n",
        "        self.data=data\n",
        "        self.ref=None\n",
        "#creating LinkedList\n",
        "class LinkedList:\n",
        "    def __init__(self):\n",
        "        self.head=None\n",
        "    def print_LL(self):\n",
        "        if self.head is None:\n",
        "            print(\"LinkedList is empty\")\n",
        "        else:\n",
        "            n=self.head\n",
        "            while n is not None:\n",
        "                print(f\"{n.data}-{n.ref}-->\",end=\" \")\n",
        "                n=n.ref  #ethe swathachya chya ref la n thevl ki pudhchycha node access karta yeyil\n",
        "    def add_begin(self,data):\n",
        "        new_node=Node(data)\n",
        "        new_node.ref=self.head\n",
        "        self.head=new_node\n",
        "LL1=LinkedList()\n",
        "LL1.add_begin(10)\n",
        "LL1.add_begin(20)\n",
        "\n",
        "LL1.add_begin(30)\n",
        "LL1.add_begin(40)\n",
        "\n",
        "\n",
        "\n",
        "\n",
        "LL1.print_LL()"
      ]
    },
    {
      "cell_type": "markdown",
      "id": "a5b9b2f0",
      "metadata": {
        "id": "a5b9b2f0"
      },
      "source": [
        "2.At the end of the node\n",
        "![image.png](attachment:image.png)"
      ]
    },
    {
      "cell_type": "code",
      "execution_count": null,
      "id": "a4408944",
      "metadata": {
        "id": "a4408944",
        "outputId": "830a5d0f-9933-422c-8b32-088402af467c"
      },
      "outputs": [
        {
          "name": "stdout",
          "output_type": "stream",
          "text": [
            "30-<__main__.Node object at 0x0000026BDA223A90>--> 20-<__main__.Node object at 0x0000026BD8F51F70>--> 10-<__main__.Node object at 0x0000026BDA2A7790>--> 100-None--> "
          ]
        }
      ],
      "source": [
        "# creating the node\n",
        "class Node:\n",
        "    def __init__(self,data):\n",
        "        self.data=data\n",
        "        self.ref=None\n",
        "#creating LinkedList\n",
        "class LinkedList:\n",
        "    def __init__(self):\n",
        "        self.head=None\n",
        "    def print_LL(self):\n",
        "        if self.head is None:\n",
        "            print(\"LinkedList is empty\")\n",
        "        else:\n",
        "            n=self.head\n",
        "            while n is not None:\n",
        "                print(f\"{n.data}-{n.ref}-->\",end=\" \")\n",
        "                n=n.ref  #ethe swathachya chya ref la n thevl ki pudhchycha node access karta yeyil\n",
        "    def add_begin(self,data):\n",
        "        new_node=Node(data)\n",
        "        new_node.ref=self.head\n",
        "        self.head=new_node\n",
        "    def add_end(self,data):\n",
        "        new_node=Node(data)\n",
        "        if self.head is None:\n",
        "            self.head=new_node\n",
        "        else:\n",
        "            n=self.head\n",
        "            while n.ref is not None:\n",
        "                n=n.ref\n",
        "            n.ref=new_node\n",
        "LL1=LinkedList()\n",
        "LL1.add_begin(10)\n",
        "LL1.add_begin(20)\n",
        "LL1.add_begin(30)\n",
        "\n",
        "LL1.add_end(100)\n",
        "\n",
        "\n",
        "\n",
        "LL1.print_LL()"
      ]
    },
    {
      "cell_type": "markdown",
      "id": "07f43a54",
      "metadata": {
        "id": "07f43a54"
      },
      "source": [
        "3.In between the node\n",
        "![image.png](attachment:image.png)"
      ]
    },
    {
      "cell_type": "code",
      "execution_count": null,
      "id": "0dc5e7c1",
      "metadata": {
        "id": "0dc5e7c1",
        "outputId": "d5644ae7-e13b-444c-d1e1-71e6aef79a5b"
      },
      "outputs": [
        {
          "name": "stdout",
          "output_type": "stream",
          "text": [
            "(10)-(None)--> (30)-(<__main__.Node object at 0x0000026BDB20F310>)--> (20)-(<__main__.Node object at 0x0000026BDB1E5C10>)--> (400)-(<__main__.Node object at 0x0000026BDB1E5DC0>)--> (200)-(<__main__.Node object at 0x0000026BDB20F0A0>)--> (10)-(<__main__.Node object at 0x0000026BDB1E5AF0>)--> (100)-(None)--> "
          ]
        }
      ],
      "source": [
        "\n",
        "class Node:\n",
        "    def __init__(self,data):\n",
        "        self.data=data\n",
        "        self.ref=None\n",
        "        \n",
        "class LinkedList:\n",
        "    def __init__(self):\n",
        "        self.head=None\n",
        "        \n",
        "    def print_LL(self):\n",
        "        if self.head is None:\n",
        "            print(\"LinkedList is empty\")\n",
        "        else:\n",
        "            n=self.head\n",
        "            while n is not None:\n",
        "                print(f\"({n.data})-({n.ref})-->\",end=\" \")\n",
        "                n=n.ref \n",
        "                \n",
        "    def add_begin(self,data):\n",
        "        new_node=Node(data)\n",
        "        new_node.ref=self.head\n",
        "        self.head=new_node\n",
        "        \n",
        "    def add_end(self,data):\n",
        "        new_node=Node(data)\n",
        "        if self.head is None:\n",
        "            self.head=new_node\n",
        "        else:\n",
        "            n=self.head\n",
        "            while n.ref is not None:\n",
        "                n=n.ref\n",
        "            n.ref=new_node\n",
        "    # after the node        \n",
        "    def add_after(self,data,x):\n",
        "        n=self.head\n",
        "        while n is not None:\n",
        "            if x==n.data:\n",
        "                break\n",
        "            n=n.ref\n",
        "        if n is None:\n",
        "            print(\"Node is not present in LL\")\n",
        "\n",
        "        else:\n",
        "            new_node=Node(data)\n",
        "            new_node.ref=n.ref\n",
        "            n.ref=new_node\n",
        "    # before the node\n",
        "    def add_before(self,data,x):\n",
        "        if self.head is None:\n",
        "            print(\"Linked List is empty!\")\n",
        "            return \n",
        "        if self.head.data==x:\n",
        "                new_node=Node(data)\n",
        "                new_node.ref=self.head\n",
        "                self.head=new_node\n",
        "                return\n",
        "        n=self.head\n",
        "        while n.ref is not None:\n",
        "            if n.ref.data==x:\n",
        "                break\n",
        "            n=n.ref\n",
        "        if n.ref is None:\n",
        "            print(\"Node is not found!\")\n",
        "        else:\n",
        "            new_node=Node(data)\n",
        "            new_node.ref=n.ref\n",
        "            n.ref=new_node\n",
        "\n",
        "LL1=LinkedList()\n",
        "LL1.add_begin(10)\n",
        "LL1.add_begin(30)\n",
        "\n",
        "LL1.print_LL()\n",
        "            \n",
        "\n",
        "            \n",
        "            \n",
        "    \n",
        "    \n",
        "            \n",
        "        \n",
        "LL1=LinkedList()\n",
        "LL1.add_begin(10)\n",
        "LL1.add_begin(20)\n",
        "LL1.add_begin(30)\n",
        "LL1.add_after(200,20)\n",
        "LL1.add_before(400,200)\n",
        "\n",
        "LL1.add_end(100)\n",
        "\n",
        "\n",
        "\n",
        "LL1.print_LL()"
      ]
    },
    {
      "cell_type": "markdown",
      "id": "f6af50af",
      "metadata": {
        "id": "f6af50af"
      },
      "source": [
        "4.Deleting at the beginning of the node\n",
        "![image.png](attachment:image.png)"
      ]
    },
    {
      "cell_type": "code",
      "execution_count": null,
      "id": "90255c0b",
      "metadata": {
        "id": "90255c0b",
        "outputId": "f7c1ce5f-8b22-4de0-9032-7d990d42b6eb"
      },
      "outputs": [
        {
          "name": "stdout",
          "output_type": "stream",
          "text": [
            "(20)-(<__main__.Node object at 0x0000026BDB2371F0>)--> (10)-(None)--> "
          ]
        }
      ],
      "source": [
        "class Node:\n",
        "    def __init__(self,data):\n",
        "        self.data=data\n",
        "        self.ref=None\n",
        "        \n",
        "class LinkedList:\n",
        "    def __init__(self):\n",
        "        self.head=None\n",
        "        \n",
        "    def print_LL(self):\n",
        "        if self.head is None:\n",
        "            print(\"LinkedList is empty\")\n",
        "        else:\n",
        "            n=self.head\n",
        "            while n is not None:\n",
        "                print(f\"({n.data})-({n.ref})-->\",end=\" \")\n",
        "                n=n.ref \n",
        "                    \n",
        "    def add_begin(self,data):\n",
        "        new_node=Node(data)\n",
        "        new_node.ref=self.head\n",
        "        self.head=new_node\n",
        "        \n",
        "    def insert_empty(self,data):\n",
        "        if self.head is None:\n",
        "            new_node=Node(data)\n",
        "            self.head=new_node\n",
        "        else:\n",
        "            print(\"Linked List is not empty\")\n",
        "            \n",
        "    def delete_begin(self):\n",
        "        if self.head is None:\n",
        "            print(\"LL is empty so we can delete nodes\")\n",
        "        else:\n",
        "            self.head=self.head.ref\n",
        "LL1=LinkedList()\n",
        "LL1.add_begin(10)\n",
        "LL1.add_begin(20)\n",
        "LL1.add_begin(30)\n",
        "LL1.delete_begin()\n",
        "\n",
        "\n",
        "LL1.print_LL()\n",
        "\n",
        "\n",
        "\n",
        "            "
      ]
    },
    {
      "cell_type": "markdown",
      "id": "1e785225",
      "metadata": {
        "id": "1e785225"
      },
      "source": [
        "5.Delete to the End of list\n",
        "![image.png](attachment:image.png)"
      ]
    },
    {
      "cell_type": "code",
      "execution_count": null,
      "id": "da3245a7",
      "metadata": {
        "id": "da3245a7",
        "outputId": "941df631-e1ed-4782-b21d-d1c20b60dc14"
      },
      "outputs": [
        {
          "name": "stdout",
          "output_type": "stream",
          "text": [
            "(30)-(<__main__.Node object at 0x0000026BDA1114C0>)--> (20)-(None)--> "
          ]
        }
      ],
      "source": [
        "class Node:\n",
        "    def __init__(self,data):\n",
        "        self.data=data\n",
        "        self.ref=None\n",
        "        \n",
        "class LinkedList:\n",
        "    def __init__(self):\n",
        "        self.head=None\n",
        "        \n",
        "    def print_LL(self):\n",
        "        if self.head is None:\n",
        "            print(\"LinkedList is empty\")\n",
        "        else:\n",
        "            n=self.head\n",
        "            while n is not None:\n",
        "                print(f\"({n.data})-({n.ref})-->\",end=\" \")\n",
        "                n=n.ref \n",
        "                    \n",
        "    def add_begin(self,data):\n",
        "        new_node=Node(data)\n",
        "        new_node.ref=self.head\n",
        "        self.head=new_node\n",
        "        \n",
        "    def insert_empty(self,data):\n",
        "        if self.head is None:\n",
        "            new_node=Node(data)\n",
        "            self.head=new_node\n",
        "        else:\n",
        "            print(\"Linked List is not empty\")\n",
        "            \n",
        "    def delete_begin(self):\n",
        "        if self.head is None:\n",
        "            print(\"LL is empty so we can delete nodes\")\n",
        "        else:\n",
        "            self.head=self.head.ref\n",
        "    def delete_end(self):\n",
        "        if self.head is None:\n",
        "            print(\"LL is empty we can delete it\")\n",
        "        elif self.head.ref is None:\n",
        "            self.head=None\n",
        "            \n",
        "        else:\n",
        "            n=self.head\n",
        "            while n.ref.ref is not None:\n",
        "                n=n.ref\n",
        "            n.ref=None #giving the value to None\n",
        "LL1=LinkedList()\n",
        "LL1.add_begin(10)\n",
        "LL1.add_begin(20)\n",
        "LL1.add_begin(30)\n",
        "LL1.delete_end()\n",
        "\n",
        "LL1.print_LL()"
      ]
    },
    {
      "cell_type": "markdown",
      "id": "ac85897b",
      "metadata": {
        "id": "ac85897b"
      },
      "source": [
        "6.Delete in Between\n",
        "![image.png](attachment:image.png)"
      ]
    },
    {
      "cell_type": "code",
      "execution_count": null,
      "id": "4496ee49",
      "metadata": {
        "id": "4496ee49"
      },
      "outputs": [],
      "source": [
        "class Node:\n",
        "    def __init__(self,data):\n",
        "        self.data=data\n",
        "        self.ref=None\n",
        "        \n",
        "class LinkedList:\n",
        "    def __init__(self):\n",
        "        self.head=None\n",
        "        \n",
        "    def print_LL(self):\n",
        "        if self.head is None:\n",
        "            print(\"LinkedList is empty\")\n",
        "        else:\n",
        "            n=self.head\n",
        "            while n is not None:\n",
        "                print(f\"({n.data})-({n.ref})-->\",end=\" \")\n",
        "                n=n.ref \n",
        "                    \n",
        "    def add_begin(self,data):\n",
        "        new_node=Node(data)\n",
        "        new_node.ref=self.head\n",
        "        self.head=new_node\n",
        "        \n",
        "    def insert_empty(self,data):\n",
        "        if self.head is None:\n",
        "            new_node=Node(data)\n",
        "            self.head=new_node\n",
        "        else:\n",
        "            print(\"Linked List is not empty\")\n",
        "            \n",
        "    def delete_begin(self):\n",
        "        if self.head is None:\n",
        "            print(\"LL is empty so we can delete nodes\")\n",
        "        else:\n",
        "            self.head=self.head.ref\n",
        "    def delete_end(self):\n",
        "        if self.head is None:\n",
        "            print(\"LL is empty we can delete it\")\n",
        "        elif self.head.ref is None:\n",
        "            self.head=None\n",
        "        else:\n",
        "            n=self.head\n",
        "            while n.ref.ref is not None:\n",
        "                n=n.ref\n",
        "            n.ref=None #giving the value to None\n",
        "    def delete_by_value(self,x):\n",
        "        if self.head is None:\n",
        "            print(\"Cant delete LL is empty\")\n",
        "            return \n",
        "        if x==self.head.data:\n",
        "            self.head=self.head.ref\n",
        "            return\n",
        "        \n",
        "         \n",
        "         \n",
        "        \n",
        "LL1=LinkedList()\n",
        "LL1.add_begin(10)\n",
        "LL1.add_begin(20)\n",
        "LL1.add_begin(30)\n",
        "LL1.delete_end()\n",
        "\n",
        "LL1.print_LL()"
      ]
    },
    {
      "cell_type": "markdown",
      "id": "6b8118bc",
      "metadata": {
        "id": "6b8118bc"
      },
      "source": [
        "7.Traversal\n",
        "![image.png](attachment:image.png)"
      ]
    },
    {
      "cell_type": "markdown",
      "id": "e114fb93",
      "metadata": {
        "id": "e114fb93"
      },
      "source": [
        "![image.png](attachment:image.png)"
      ]
    },
    {
      "cell_type": "code",
      "execution_count": null,
      "id": "07bb385d",
      "metadata": {
        "id": "07bb385d"
      },
      "outputs": [],
      "source": [
        "# creating the node\n",
        "class Node:\n",
        "    def __init__(self,data):\n",
        "        self.data=data\n",
        "        self.ref=None\n",
        "#creating LinkedList\n",
        "class LinkedList:\n",
        "    def __intit__(self):\n",
        "        self.head=None\n",
        "    def traversal():\n",
        "        n=self.head\n",
        "        if self.head is None:\n",
        "            print(\"LinkedList is empty\")\n",
        "        else:\n",
        "            while n is not None:\n",
        "                print(f\"{n.data}-{n.ref}-->\",end=\" \")\n",
        "                n=n.ref  #ethe swathachya chya ref la n thevl ki pudhchycha node access karta yeyil\n",
        "\n",
        "            "
      ]
    },
    {
      "cell_type": "markdown",
      "id": "ad0ee062",
      "metadata": {
        "id": "ad0ee062"
      },
      "source": [
        "### Doubly Linked List"
      ]
    },
    {
      "cell_type": "markdown",
      "id": "5b030c2f",
      "metadata": {
        "id": "5b030c2f"
      },
      "source": [
        "#### Traversal operation "
      ]
    },
    {
      "cell_type": "code",
      "execution_count": null,
      "id": "3cd20775",
      "metadata": {
        "id": "3cd20775",
        "outputId": "ee88661d-0791-49ea-ceb3-882d42b233bc"
      },
      "outputs": [
        {
          "name": "stdout",
          "output_type": "stream",
          "text": [
            "LinkedList is empty\n",
            "LinkedList is empty\n"
          ]
        }
      ],
      "source": [
        "class Node:\n",
        "    def __init__(self,data):\n",
        "        self.data=data\n",
        "        self.pref=None\n",
        "        self.nref=None\n",
        "class doublyLL:\n",
        "    def __init__(self):\n",
        "        self.head=None\n",
        "        \n",
        "    def print_LL(self):\n",
        "        if self.head is None:\n",
        "            print(\"LinkedList is empty\")\n",
        "        else:\n",
        "            n=self.head\n",
        "            while n is not None: #print until the head is not equalt to none means object is not equal to None\n",
        "                print(f\"({n.pref})-->({n.data})-({n.nref})-->\",end=\" \")\n",
        "                n=n.nref # for giving to the next node \n",
        "        \n",
        "            \n",
        "    def print_LL_reverse(self):\n",
        "        if self.head is None:\n",
        "            print(\"LinkedList is empty\")\n",
        "        else:\n",
        "            #but how to go to the last node to get the last node\n",
        "            n=self.head\n",
        "            while n.ref is not None:\n",
        "                n=n.ref\n",
        "            while n is not None:\n",
        "                print(n.data,\"-->\",end=\" \")\n",
        "                n=n.pref\n",
        "                \n",
        "dl1=doublyLL()\n",
        "dl1.print_LL()\n",
        "dl1.print_LL_reverse()\n",
        "                \n",
        "    "
      ]
    },
    {
      "cell_type": "markdown",
      "id": "b40315e7",
      "metadata": {
        "id": "b40315e7"
      },
      "source": [
        "#### Insert the Node operation "
      ]
    },
    {
      "cell_type": "raw",
      "id": "8a39fd76",
      "metadata": {
        "id": "8a39fd76"
      },
      "source": [
        "1.Insertion when empty\n",
        "2.At begin\n",
        "3.After the Node\n",
        "4.Before a node"
      ]
    },
    {
      "cell_type": "code",
      "execution_count": null,
      "id": "0342d160",
      "metadata": {
        "id": "0342d160",
        "outputId": "a619bbd7-232f-40e1-d513-3ebdec7b7112"
      },
      "outputs": [
        {
          "name": "stdout",
          "output_type": "stream",
          "text": [
            "(<__main__.Node object at 0x0000013A6F1EDC70>)-->(20)-(None)--> (None)-->(10)-(<__main__.Node object at 0x0000013A6F1ED4C0>)--> 10 --> 20 --> "
          ]
        }
      ],
      "source": [
        "class Node:\n",
        "    def __init__(self,data):\n",
        "        self.data=data\n",
        "        self.pref=None\n",
        "        self.nref=None\n",
        "class doublyLL:\n",
        "    def __init__(self):\n",
        "        self.head=None\n",
        "        \n",
        "    def print_LL(self):\n",
        "        if self.head is None:\n",
        "            print(\"LinkedList is empty\")\n",
        "        else:\n",
        "            n=self.head\n",
        "            while n is not None: #print until the head is not equalt to none means object is not equal to None\n",
        "                print(f\"({n.nref})-->({n.data})-({n.pref})-->\",end=\" \")\n",
        "                n=n.nref # for giving to the next node \n",
        "        \n",
        "            \n",
        "    def print_LL_reverse(self):\n",
        "        if self.head is None:\n",
        "            print(\"LinkedList is empty\")\n",
        "        else:\n",
        "            #but how to go to the last node to get the last node\n",
        "            n=self.head\n",
        "            while n.nref is not None:\n",
        "                n=n.nref\n",
        "            while n is not None:\n",
        "                print(n.data,\"-->\",end=\" \")\n",
        "                n=n.pref\n",
        "    def insert_empty(self,data):\n",
        "        if self.head is None:\n",
        "            new_node=Node(data)\n",
        "            self.head=new_node\n",
        "        else:\n",
        "            print(\"Linked List is Not empty\")\n",
        "    def add_begin(self,data):\n",
        "        new_node=Node(data)\n",
        "        if self.head is None:\n",
        "            self.head=new_node\n",
        "        else:\n",
        "            new_node.nref=self.head\n",
        "            self.head.pref=new_node\n",
        "            self.head=new_node\n",
        "    def add_end(self,data):\n",
        "        new_node=Node(data)\n",
        "        if self.head is None:\n",
        "            self.head=new_node\n",
        "        else:\n",
        "            \n",
        "            n=self.head\n",
        "            while n.nref is not None:\n",
        "                n=n.nref\n",
        "            n.nref=new_node\n",
        "            new_node.pref=n\n",
        "            \n",
        "            \n",
        "            \n",
        "dl1=doublyLL()\n",
        "dl1.insert_empty(10)\n",
        "dl1.add_begin(20)\n",
        "dl1.print_LL()\n",
        "dl1.print_LL_reverse()"
      ]
    },
    {
      "cell_type": "raw",
      "id": "30e06e9a",
      "metadata": {
        "id": "30e06e9a"
      },
      "source": [
        "Insert the after a given node and before a given node"
      ]
    },
    {
      "cell_type": "code",
      "execution_count": null,
      "id": "e912b825",
      "metadata": {
        "id": "e912b825",
        "outputId": "3ba93220-8ef7-4716-b1db-47b2109f14d0"
      },
      "outputs": [
        {
          "name": "stdout",
          "output_type": "stream",
          "text": [
            "(<__main__.Node object at 0x0000013A6F0A3F40>)-->(20)-(None)--> (<__main__.Node object at 0x0000013A6F0F04C0>)-->(100)-(<__main__.Node object at 0x0000013A6F0A3BB0>)--> (None)-->(10)-(<__main__.Node object at 0x0000013A6F0A3F40>)--> "
          ]
        }
      ],
      "source": [
        "class Node:\n",
        "    def __init__(self,data):\n",
        "        self.data=data\n",
        "        self.pref=None\n",
        "        self.nref=None\n",
        "class doublyLL:\n",
        "    def __init__(self):\n",
        "        self.head=None\n",
        "        \n",
        "    def print_LL(self):\n",
        "        if self.head is None:\n",
        "            print(\"LinkedList is empty\")\n",
        "        else:\n",
        "            n=self.head\n",
        "            while n is not None: #print until the head is not equalt to none means object is not equal to None\n",
        "                print(f\"({n.nref})-->({n.data})-({n.pref})-->\",end=\" \")\n",
        "                n=n.nref # for giving to the next node \n",
        "        \n",
        "            \n",
        "    def print_LL_reverse(self):\n",
        "        if self.head is None:\n",
        "            print(\"LinkedList is empty\")\n",
        "        else:\n",
        "            #but how to go to the last node to get the last node\n",
        "            n=self.head\n",
        "            while n.nref is not None:\n",
        "                n=n.nref\n",
        "            while n is not None:\n",
        "                print(n.data,\"-->\",end=\" \")\n",
        "                n=n.pref\n",
        "    def insert_empty(self,data):\n",
        "        if self.head is None:\n",
        "            new_node=Node(data)\n",
        "            self.head=new_node\n",
        "        else:\n",
        "            print(\"Linked List is Not empty\")\n",
        "    def add_begin(self,data):\n",
        "        new_node=Node(data)\n",
        "        if self.head is None:\n",
        "            self.head=new_node\n",
        "        else:\n",
        "            new_node.nref=self.head\n",
        "            self.head.pref=new_node\n",
        "            self.head=new_node\n",
        "    def add_end(self,data):\n",
        "        new_node=Node(data)\n",
        "        if self.head is None:\n",
        "            self.head=new_node\n",
        "        else:\n",
        "            \n",
        "            n=self.head\n",
        "            while n.nref is not None:\n",
        "                n=n.nref\n",
        "            n.nref=new_node\n",
        "            new_node.pref=n\n",
        "    def add_after(self,data,x):\n",
        "        if self.head is None:\n",
        "            print(\"LL is empty!\")\n",
        "        else:\n",
        "            n=self.head\n",
        "            while n is not None:\n",
        "                if x==n.data:\n",
        "                    break\n",
        "                    n=n.nref\n",
        "            if n is None:\n",
        "                print(\"Given Node is not present in DLL\")\n",
        "            else:\n",
        "                new_node=Node(data)\n",
        "                new_node.nref=n.nref\n",
        "                new_node.pref=n\n",
        "                if n.nref is not None:\n",
        "                    n.nref.pref =new_node\n",
        "                n.nref=new_node\n",
        "    def add_before(self,data,x):\n",
        "        if self.head is None:\n",
        "            print(\"LL is empty!\")\n",
        "        else:\n",
        "            n=self.head\n",
        "            while n is not None:\n",
        "                if x==n.data:\n",
        "                    break\n",
        "                    n=n.nref\n",
        "            if n is None:\n",
        "                print(\"Given Node is not present in DLL\")\n",
        "            else:\n",
        "                new_node=Node(data)\n",
        "                new_node.nref=n\n",
        "                new_node.pref=n.pref\n",
        "                if n.pref is not None:\n",
        "                    n.pref.nref=new_node\n",
        "                else:\n",
        "                    self.head=new_node\n",
        "                    \n",
        "                n.pref=new_node\n",
        "        \n",
        "                    \n",
        "        \n",
        "                \n",
        "            \n",
        "            \n",
        "dl1=doublyLL()\n",
        "dl1.insert_empty(10)\n",
        "dl1.add_begin(20)\n",
        "dl1.add_after(100,20)\n",
        "dl1.print_LL()\n",
        "# dl1.print_LL_reverse()"
      ]
    },
    {
      "cell_type": "markdown",
      "id": "ea921be4",
      "metadata": {
        "id": "ea921be4"
      },
      "source": [
        "#### Delete the Node operation "
      ]
    },
    {
      "cell_type": "code",
      "execution_count": null,
      "id": "ba07a8a0",
      "metadata": {
        "id": "ba07a8a0"
      },
      "outputs": [],
      "source": [
        "class Node:\n",
        "    def __init__(self,data):\n",
        "        self.data=data\n",
        "        self.pref=None\n",
        "        self.nref=None\n",
        "class doublyLL:\n",
        "    def __init__(self):\n",
        "        self.head=None\n",
        "        \n",
        "    def print_LL(self):\n",
        "        if self.head is None:\n",
        "            print(\"LinkedList is empty\")\n",
        "        else:\n",
        "            n=self.head\n",
        "            while n is not None: #print until the head is not equalt to none means object is not equal to None\n",
        "                print(f\"({n.nref})-->({n.data})-({n.pref})-->\",end=\" \")\n",
        "                n=n.nref # for giving to the next node \n",
        "        \n",
        "            \n",
        "    def print_LL_reverse(self):\n",
        "        if self.head is None:\n",
        "            print(\"LinkedList is empty\")\n",
        "        else:\n",
        "            #but how to go to the last node to get the last node\n",
        "            n=self.head\n",
        "            while n.nref is not None:\n",
        "                n=n.nref\n",
        "            while n is not None:\n",
        "                print(n.data,\"-->\",end=\" \")\n",
        "                n=n.pref\n",
        "    def insert_empty(self,data):\n",
        "        if self.head is None:\n",
        "            new_node=Node(data)\n",
        "            self.head=new_node\n",
        "        else:\n",
        "            print(\"Linked List is Not empty\")\n",
        "    def add_begin(self,data):\n",
        "        new_node=Node(data)\n",
        "        if self.head is None:\n",
        "            self.head=new_node\n",
        "        else:\n",
        "            new_node.nref=self.head\n",
        "            self.head.pref=new_node\n",
        "            self.head=new_node\n",
        "    def add_end(self,data):\n",
        "        new_node=Node(data)\n",
        "        if self.head is None:\n",
        "            self.head=new_node\n",
        "        else:\n",
        "            \n",
        "            n=self.head\n",
        "            while n.nref is not None:\n",
        "                n=n.nref\n",
        "            n.nref=new_node\n",
        "            new_node.pref=n\n",
        "    def add_after(self,data,x):\n",
        "        if self.head is None:\n",
        "            print(\"LL is empty!\")\n",
        "        else:\n",
        "            n=self.head\n",
        "            while n is not None:\n",
        "                if x==n.data:\n",
        "                    break\n",
        "                    n=n.nref\n",
        "            if n is None:\n",
        "                print(\"Given Node is not present in DLL\")\n",
        "            else:\n",
        "                new_node=Node(data)\n",
        "                new_node.nref=n.nref\n",
        "                new_node.pref=n\n",
        "                if n.nref is not None:\n",
        "                    n.nref.pref =new_node\n",
        "                n.nref=new_node\n",
        "    def add_before(self,data,x):\n",
        "        if self.head is None:\n",
        "            print(\"LL is empty!\")\n",
        "        else:\n",
        "            n=self.head\n",
        "            while n is not None:\n",
        "                if x==n.data:\n",
        "                    break\n",
        "                    n=n.nref\n",
        "            if n is None:\n",
        "                print(\"Given Node is not present in DLL\")\n",
        "            else:\n",
        "                new_node=Node(data)\n",
        "                new_node.nref=n\n",
        "                new_node.pref=n.pref\n",
        "                if n.pref is not None:\n",
        "                    n.pref.nref=new_node\n",
        "                else:\n",
        "                    self.head=new_node\n",
        "                    \n",
        "                n.pref=new_node\n",
        "    def delete_begin(self):\n",
        "        if self.head is None:\n",
        "            print(\"DLL is empty cant delete !\")\n",
        "            return None\n",
        "        if self.head.nref is None:\n",
        "            self.head =None\n",
        "            print(\"DLL is empty after deleting the node!\")\n",
        "        else:\n",
        "            self.head=self.head.nref\n",
        "            self.head.pref=None\n",
        "        \n",
        "    def delete_end(self):\n",
        "        if self.head is None:\n",
        "            print(\"List is empty\")\n",
        "            return\n",
        "        #if only one node  is present\n",
        "        if self.head.nref is None:\n",
        "            self.head =None\n",
        "            print(\"DLL is empty after deleting the node!\")\n",
        "        else:\n",
        "            n=self.head\n",
        "            while n.nref is not None:\n",
        "                n=n.nref\n",
        "            n.pref.nref=None\n",
        "    def delete_by_value(self,x):\n",
        "        if self.head is None:\n",
        "            print(\"DLL is empty cant delete !\")\n",
        "            return None\n",
        "        # when only one node is present in DLL\n",
        "        if self.head.nref is None:\n",
        "            if x==self.head.data:\n",
        "                self.head =None\n",
        "            else:\n",
        "                print(\"x is not present is DLL\")\n",
        "            return \n",
        "                \n",
        "                \n",
        "                \n",
        "            \n",
        "            \n",
        "        \n",
        "            \n",
        "            \n",
        "            \n",
        "                    \n",
        "        \n",
        "                \n",
        "            \n",
        "            \n",
        "dl1=doublyLL()\n",
        "dl1.insert_empty(10)\n",
        "dl1.add_begin(20)\n",
        "dl1.add_after(100,20)\n",
        "dl1.print_LL()"
      ]
    },
    {
      "cell_type": "markdown",
      "id": "c3e17658",
      "metadata": {
        "id": "c3e17658"
      },
      "source": [
        "### Binary Tree"
      ]
    },
    {
      "cell_type": "code",
      "execution_count": null,
      "id": "90db0b07",
      "metadata": {
        "id": "90db0b07",
        "outputId": "a1a4a206-daef-4f6f-b1c4-b19665276ee8"
      },
      "outputs": [
        {
          "name": "stdout",
          "output_type": "stream",
          "text": [
            "10\n",
            "None\n",
            "None\n"
          ]
        }
      ],
      "source": [
        "class BST:\n",
        "    def __init__(self,key):\n",
        "        self.key=key\n",
        "        self.lchild=None\n",
        "        self.rchild=None\n",
        "root=BST(10)\n",
        "print(root.key)\n",
        "print(root.lchild)\n",
        "print(root.rchild)"
      ]
    },
    {
      "cell_type": "markdown",
      "id": "99de41dc",
      "metadata": {
        "id": "99de41dc"
      },
      "source": [
        "#Insertion operation\n",
        "1.Whether tree is empty or not\n",
        "2."
      ]
    },
    {
      "cell_type": "code",
      "execution_count": null,
      "id": "f1d48620",
      "metadata": {
        "scrolled": true,
        "id": "f1d48620",
        "outputId": "8472c378-56d5-4fcc-a830-3b37e28c53c4"
      },
      "outputs": [
        {
          "name": "stdout",
          "output_type": "stream",
          "text": [
            "20\n",
            "<__main__.BST object at 0x000002464E2658B0>\n",
            "None\n",
            "<__main__.BST object at 0x000002464E023D60>\n"
          ]
        }
      ],
      "source": [
        "class BST:\n",
        "    def __init__(self,key):\n",
        "        self.key=key\n",
        "        self.lchild=None\n",
        "        self.rchild=None\n",
        "    def insert(self,data):\n",
        "        if self.key is None:\n",
        "            self.key=data\n",
        "            return \n",
        "        if self.key==data:\n",
        "            return \n",
        "        if self.key>data:\n",
        "            if self.lchild:\n",
        "                self.lchild.insert(data)\n",
        "            else:\n",
        "                self.lchild=BST(data)\n",
        "        else:\n",
        "            if self.rchild:\n",
        "                self.rchild.insert(data)\n",
        "            else:\n",
        "                self.rchild=BST(data)\n",
        "        \n",
        "            \n",
        "            \n",
        "        \n",
        "        \n",
        "root=BST(None)\n",
        "list1=[20,3,14,1,5,6,7]\n",
        "for i in list1:\n",
        "    root.insert(i)\n",
        "\n",
        "print(root.key)\n",
        "print(root.lchild)\n",
        "print(root.rchild)\n",
        "\n"
      ]
    },
    {
      "cell_type": "code",
      "execution_count": null,
      "id": "b851edb9",
      "metadata": {
        "id": "b851edb9"
      },
      "outputs": [],
      "source": [
        "#searching"
      ]
    },
    {
      "cell_type": "code",
      "execution_count": null,
      "id": "77092b6c",
      "metadata": {
        "id": "77092b6c",
        "outputId": "0d143b64-bc55-4758-abb5-2f02845909d2"
      },
      "outputs": [
        {
          "name": "stdout",
          "output_type": "stream",
          "text": [
            "Node is Found\n",
            "Node is not present in Tree\n"
          ]
        }
      ],
      "source": [
        "class BST:\n",
        "    def __init__(self,key):\n",
        "        self.key=key\n",
        "        self.lchild=None\n",
        "        self.rchild=None\n",
        "    def insert(self,data):\n",
        "        if self.key is None:\n",
        "            self.key=data\n",
        "            return \n",
        "        if self.key==data:\n",
        "            return \n",
        "        if self.key>data:\n",
        "            if self.lchild:\n",
        "                self.lchild.insert(data)\n",
        "            else:\n",
        "                self.lchild=BST(data)\n",
        "        else:\n",
        "            if self.rchild:\n",
        "                self.rchild.insert(data)\n",
        "            else:\n",
        "                self.rchild=BST(data)\n",
        "        \n",
        "    def search(self,data):\n",
        "        if self.key==data:\n",
        "            print(\"Node is Found\")\n",
        "            return \n",
        "        \n",
        "        if self.key>data:\n",
        "            if self.lchild:\n",
        "                self.lchild.search(data)\n",
        "            else:\n",
        "                print(\"Node is not present in Tree\")\n",
        "        else:\n",
        "            if self.rchild:\n",
        "                self.rchild.search(data)\n",
        "            else:\n",
        "                print(\"Node is not present in Tree\")\n",
        "        \n",
        "                \n",
        "                \n",
        "            \n",
        "        \n",
        "        \n",
        "root=BST(None)\n",
        "list1=[20,3,14,1,5,6,7]\n",
        "for i in list1:\n",
        "    root.insert(i)\n",
        "\n",
        "root.search(1)\n",
        "root.search(38)\n",
        "\n"
      ]
    },
    {
      "cell_type": "raw",
      "id": "5b746fa0",
      "metadata": {
        "id": "5b746fa0"
      },
      "source": [
        "Traversal:\n",
        "1.Preorder :root-->left-->Right\n",
        "2.Inorder:"
      ]
    },
    {
      "cell_type": "code",
      "execution_count": null,
      "id": "73418dba",
      "metadata": {
        "id": "73418dba",
        "outputId": "d1f03e3f-3619-4359-eb0f-3a8c93ff87cd"
      },
      "outputs": [
        {
          "name": "stdout",
          "output_type": "stream",
          "text": [
            "Node is Found\n",
            "Node is not present in Tree\n",
            "20 3 1 14 5 6 7 "
          ]
        }
      ],
      "source": [
        "class BST:\n",
        "    def __init__(self,key):\n",
        "        self.key=key\n",
        "        self.lchild=None\n",
        "        self.rchild=None\n",
        "    def insert(self,data):\n",
        "        if self.key is None:\n",
        "            self.key=data\n",
        "            return \n",
        "        if self.key==data:\n",
        "            return \n",
        "        if self.key>data:\n",
        "            if self.lchild:\n",
        "                self.lchild.insert(data)\n",
        "            else:\n",
        "                self.lchild=BST(data)\n",
        "        else:\n",
        "            if self.rchild:\n",
        "                self.rchild.insert(data)\n",
        "            else:\n",
        "                self.rchild=BST(data)\n",
        "        \n",
        "    def search(self,data):\n",
        "        if self.key==data:\n",
        "            print(\"Node is Found\")\n",
        "            return \n",
        "        \n",
        "        if self.key>data:\n",
        "            if self.lchild:\n",
        "                self.lchild.search(data)\n",
        "            else:\n",
        "                print(\"Node is not present in Tree\")\n",
        "        else:\n",
        "            if self.rchild:\n",
        "                self.rchild.search(data)\n",
        "            else:\n",
        "                print(\"Node is not present in Tree\")\n",
        "    def preorder(self):\n",
        "        print(self.key,end=\" \") # printiing objects key\n",
        "        if self.lchild:\n",
        "            self.lchild.preorder() #printing\n",
        "        if self.rchild:\n",
        "            self.rchild.preorder()\n",
        "    def inorder(self):\n",
        "        if self.lchild:\n",
        "            self.lchild.inorder()\n",
        "        print(self.key,end=\" \")\n",
        "        if self.rchild:\n",
        "            self.rchild.inorder()\n",
        "    def postorder(self):\n",
        "        if self.lchild:\n",
        "            self.lchild.postorder()\n",
        "        if self.rchild:\n",
        "            self.rchild.preorder()\n",
        "        print(self.key,end=\" \")\n",
        "        \n",
        "        \n",
        "            \n",
        "        \n",
        "            \n",
        "        \n",
        "                \n",
        "                \n",
        "            \n",
        "        \n",
        "        \n",
        "root=BST(None)\n",
        "list1=[20,3,14,1,5,6,7]\n",
        "for i in list1:\n",
        "    root.insert(i)\n",
        "\n",
        "root.search(1)\n",
        "root.search(38)\n",
        "root.preorder()"
      ]
    },
    {
      "cell_type": "raw",
      "id": "f49d44ed",
      "metadata": {
        "id": "f49d44ed"
      },
      "source": [
        "#Deletion MEthod\n",
        "1.Check whether tree is empty or not\n",
        "2. Find the node\n",
        "3.Delete the Node\n"
      ]
    },
    {
      "cell_type": "code",
      "execution_count": null,
      "id": "4b91c451",
      "metadata": {
        "id": "4b91c451",
        "outputId": "1b7c2d69-983c-4ecb-b698-172336ccfd32"
      },
      "outputs": [
        {
          "name": "stdout",
          "output_type": "stream",
          "text": [
            "Preorder\n",
            "10 1 2 \n",
            "After Deleting\n",
            "10 1 2 "
          ]
        }
      ],
      "source": [
        "class BST:\n",
        "    def __init__(self,key):\n",
        "        self.key=key\n",
        "        self.lchild=None\n",
        "        self.rchild=None\n",
        "    def insert(self,data):\n",
        "        if self.key is None:\n",
        "            self.key=data\n",
        "            return \n",
        "        if self.key==data:\n",
        "            return \n",
        "        if self.key>data:\n",
        "            if self.lchild:\n",
        "                self.lchild.insert(data)\n",
        "            else:\n",
        "                self.lchild=BST(data)\n",
        "        else:\n",
        "            if self.rchild:\n",
        "                self.rchild.insert(data)\n",
        "            else:\n",
        "                self.rchild=BST(data)\n",
        "        \n",
        "    def search(self,data):\n",
        "        if self.key==data:\n",
        "            print(\"Node is Found\")\n",
        "            return \n",
        "        \n",
        "        if self.key>data:\n",
        "            if self.lchild:\n",
        "                self.lchild.search(data)\n",
        "            else:\n",
        "                print(\"Node is not present in Tree\")\n",
        "        else:\n",
        "            if self.rchild:\n",
        "                self.rchild.search(data)\n",
        "            else:\n",
        "                print(\"Node is not present in Tree\")\n",
        "    def preorder(self):\n",
        "        print(self.key,end=\" \") # printiing objects key\n",
        "        if self.lchild:\n",
        "            self.lchild.preorder() #printing\n",
        "        if self.rchild:\n",
        "            self.rchild.preorder()\n",
        "    def inorder(self):\n",
        "        if self.lchild:\n",
        "            self.lchild.inorder()\n",
        "        print(self.key,end=\" \")\n",
        "        if self.rchild:\n",
        "            self.rchild.inorder()\n",
        "    def postorder(self):\n",
        "        if self.lchild:\n",
        "            self.lchild.postorder()\n",
        "        if self.rchild:\n",
        "            self.rchild.preorder()\n",
        "        print(self.key,end=\" \")\n",
        "        \n",
        "        \n",
        "        \n",
        "    def delete(self,data):\n",
        "        if self.key is None:\n",
        "            print(\"The tree is empty\")\n",
        "            return \n",
        "        if data<self.key:\n",
        "            if self.lchild:\n",
        "                self.lchild=self.lchild.delete(data)\n",
        "            else:\n",
        "                print(\"Node is Not Present\")\n",
        "        elif data>self.key:\n",
        "            if self.rchild:\n",
        "                self.rchild=self.rchild.delete(data)\n",
        "            else:\n",
        "                print(\"Node is Not Present\")\n",
        "        else:\n",
        "            if self.lchild is None:\n",
        "                temp=self.rchild\n",
        "                self=None\n",
        "                return temp\n",
        "            if self.rchild is None:\n",
        "                temp=self.lchild\n",
        "                self=None\n",
        "                return temp\n",
        "            node=self.rchild\n",
        "            while node.lchild:\n",
        "                node=node.lchild\n",
        "            self.key=node.key\n",
        "            self.rchild=self.rchild.delete(node.key)\n",
        "            return self\n",
        "                \n",
        "            \n",
        "            \n",
        "            \n",
        "        \n",
        "        \n",
        "            \n",
        "        \n",
        "            \n",
        "        \n",
        "                \n",
        "                \n",
        "#creating a function to count all the nodes\n",
        "def count(node):\n",
        "    if node is None:\n",
        "        return 0\n",
        "    return 1+count(node.lchild)+count(node.rchild)\n",
        "        \n",
        "        \n",
        "root=BST(10)\n",
        "list1=[1,2]\n",
        "for i in list1:\n",
        "    root.insert(i)\n",
        "print(\"Preorder\")\n",
        "root.preorder()\n",
        "print()\n",
        "if count(root)>1:\n",
        "        root.delete(10)\n",
        "else:\n",
        "    print(\"Cant perform deletion the !\")\n",
        "\n",
        "print(\"After Deleting\")\n",
        "root.preorder()"
      ]
    },
    {
      "cell_type": "raw",
      "id": "1bbb4430",
      "metadata": {
        "id": "1bbb4430"
      },
      "source": [
        "#To find Min and MAx value in the tree"
      ]
    },
    {
      "cell_type": "code",
      "execution_count": null,
      "id": "f1ea842e",
      "metadata": {
        "id": "f1ea842e",
        "outputId": "c61c3a38-aa00-47e5-81c6-560562dd9ecc"
      },
      "outputs": [
        {
          "name": "stdout",
          "output_type": "stream",
          "text": [
            "Preorder\n",
            "10 1 2 3 6 45 24 12 \n",
            "Min value of Node 1\n",
            "Max value of the Node is 45\n"
          ]
        }
      ],
      "source": [
        "class BST:\n",
        "    def __init__(self,key):\n",
        "        self.key=key\n",
        "        self.lchild=None\n",
        "        self.rchild=None\n",
        "    def insert(self,data):\n",
        "        if self.key is None:\n",
        "            self.key=data\n",
        "            return \n",
        "        if self.key==data:\n",
        "            return \n",
        "        if self.key>data:\n",
        "            if self.lchild:\n",
        "                self.lchild.insert(data)\n",
        "            else:\n",
        "                self.lchild=BST(data)\n",
        "        else:\n",
        "            if self.rchild:\n",
        "                self.rchild.insert(data)\n",
        "            else:\n",
        "                self.rchild=BST(data)\n",
        "        \n",
        "    def search(self,data):\n",
        "        if self.key==data:\n",
        "            print(\"Node is Found\")\n",
        "            return \n",
        "        \n",
        "        if self.key>data:\n",
        "            if self.lchild:\n",
        "                self.lchild.search(data)\n",
        "            else:\n",
        "                print(\"Node is not present in Tree\")\n",
        "        else:\n",
        "            if self.rchild:\n",
        "                self.rchild.search(data)\n",
        "            else:\n",
        "                print(\"Node is not present in Tree\")\n",
        "    def preorder(self):\n",
        "        print(self.key,end=\" \") # printiing objects key\n",
        "        if self.lchild:\n",
        "            self.lchild.preorder() #printing\n",
        "        if self.rchild:\n",
        "            self.rchild.preorder()\n",
        "    def inorder(self):\n",
        "        if self.lchild:\n",
        "            self.lchild.inorder()\n",
        "        print(self.key,end=\" \")\n",
        "        if self.rchild:\n",
        "            self.rchild.inorder()\n",
        "    def postorder(self):\n",
        "        if self.lchild:\n",
        "            self.lchild.postorder()\n",
        "        if self.rchild:\n",
        "            self.rchild.preorder()\n",
        "        print(self.key,end=\" \")\n",
        "        \n",
        "        \n",
        "        \n",
        "    def delete(self,data):\n",
        "        if self.key is None:\n",
        "            print(\"The tree is empty\")\n",
        "            return \n",
        "        if data<self.key:\n",
        "            if self.lchild:\n",
        "                self.lchild=self.lchild.delete(data)\n",
        "            else:\n",
        "                print(\"Node is Not Present\")\n",
        "        elif data>self.key:\n",
        "            if self.rchild:\n",
        "                self.rchild=self.rchild.delete(data)\n",
        "            else:\n",
        "                print(\"Node is Not Present\")\n",
        "        else:\n",
        "            if self.lchild is None:\n",
        "                temp=self.rchild\n",
        "                self=None\n",
        "                return temp\n",
        "            if self.rchild is None:\n",
        "                temp=self.lchild\n",
        "                self=None\n",
        "                return temp\n",
        "            node=self.rchild\n",
        "            while node.lchild:\n",
        "                node=node.lchild\n",
        "            self.key=node.key\n",
        "            self.rchild=self.rchild.delete(node.key)\n",
        "            return self\n",
        "    def min_node(self):\n",
        "            current=self\n",
        "            while current.lchild:\n",
        "                current=current.lchild\n",
        "            print(\"Min value of Node\",current.key)\n",
        "    def max_node(self):\n",
        "            current=self\n",
        "            while current.rchild:\n",
        "                current=current.rchild\n",
        "            print(\"Max value of the Node is\",current.key)\n",
        "        \n",
        "            \n",
        "            \n",
        "            \n",
        "            \n",
        "        \n",
        "        \n",
        "            \n",
        "        \n",
        "            \n",
        "        \n",
        "                \n",
        "                \n",
        "#creating a function to count all the nodes\n",
        "def count(node):\n",
        "    if node is None:\n",
        "        return 0\n",
        "    return 1+count(node.lchild)+count(node.rchild)\n",
        "        \n",
        "        \n",
        "root=BST(10)\n",
        "list1=[1,2,45,3,2,6,24,12]\n",
        "for i in list1:\n",
        "    root.insert(i)\n",
        "print(\"Preorder\")\n",
        "root.preorder()\n",
        "print()\n",
        "\n",
        "root.min_node()\n",
        "root.max_node()"
      ]
    },
    {
      "cell_type": "markdown",
      "id": "9a480844",
      "metadata": {
        "id": "9a480844"
      },
      "source": [
        "### Heap Strucutre:"
      ]
    },
    {
      "cell_type": "markdown",
      "id": "43a974c0",
      "metadata": {
        "id": "43a974c0"
      },
      "source": [
        "It Should be completely filled binary tree"
      ]
    },
    {
      "cell_type": "code",
      "execution_count": null,
      "id": "bacd9600",
      "metadata": {
        "id": "bacd9600"
      },
      "outputs": [],
      "source": [
        ""
      ]
    }
  ],
  "metadata": {
    "kernelspec": {
      "display_name": "Python 3 (ipykernel)",
      "language": "python",
      "name": "python3"
    },
    "language_info": {
      "codemirror_mode": {
        "name": "ipython",
        "version": 3
      },
      "file_extension": ".py",
      "mimetype": "text/x-python",
      "name": "python",
      "nbconvert_exporter": "python",
      "pygments_lexer": "ipython3",
      "version": "3.9.12"
    },
    "colab": {
      "name": "002 Python DSA.ipynb",
      "provenance": [],
      "include_colab_link": true
    }
  },
  "nbformat": 4,
  "nbformat_minor": 5
}